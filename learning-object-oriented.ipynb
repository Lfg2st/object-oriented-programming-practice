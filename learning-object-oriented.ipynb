{
 "cells": [
  {
   "cell_type": "markdown",
   "metadata": {},
   "source": [
    "# Learning Object Oriented Programming"
   ]
  },
  {
   "cell_type": "code",
   "execution_count": 1,
   "metadata": {},
   "outputs": [],
   "source": [
    "# a messy way to store the attributes of an item\n",
    "# Item 1 details\n",
    "item_1_name = 'Laptop'\n",
    "item_1_price = 1000\n",
    "item_1_quantity = 3\n",
    "\n",
    "# Item 2 details\n",
    "item_2_name = 'Smartphone'\n",
    "item_2_price = 800\n",
    "item_2_quantity = 5\n",
    "\n",
    "# Item 3 details\n",
    "item_3_name = 'Headphones'\n",
    "item_3_price = 150\n",
    "item_3_quantity = 10"
   ]
  },
  {
   "cell_type": "code",
   "execution_count": 9,
   "metadata": {},
   "outputs": [
    {
     "name": "stdout",
     "output_type": "stream",
     "text": [
      "5000\n"
     ]
    }
   ],
   "source": [
    "# the cleaner way to store the attributes of an item\n",
    "class Item:\n",
    "    discount = 0.8\n",
    "    def __init__(self, name: str, price: int, quantity =0): #we can add datatype hints for the ease of whoever chooses to read our script\n",
    "        # by using self, we are essentially calling the object itself as the first parameter thereby allowing us to access its attributes and manipulate them\n",
    "        # what is init? it is a method (a function defined inside a class) that is called on its own as the class is created\n",
    "        assert price >= 0 , f'Price {price} is not greater than 0' # we can deplot the assert methods to validate the attributes provided as arguments in the __init__ method before binding them to the object\n",
    "        assert quantity >= 0, f'Quantity {quantity} is not greater than 0' \n",
    "        self.name = name #assigning the object's attribute `name` to the parameter passed in `name`\n",
    "        self.price = price\n",
    "        self.quantity = quantity\n",
    "    def calculate_total_price(self):\n",
    "        # this is a method inside the class\n",
    "        return self.price * self.quantity\n",
    "item1  = Item('Laptop', 1000, 5)\n",
    "item2 = Item('Smartphone', 800, 5)\n",
    "item3 = Item('Headphones', 150, 10)\n",
    "# using default quantity\n",
    "item4 = Item('Bracelet', 200)\n",
    "\n",
    "print(item1.calculate_total_price())"
   ]
  },
  {
   "cell_type": "code",
   "execution_count": null,
   "metadata": {},
   "outputs": [],
   "source": []
  }
 ],
 "metadata": {
  "kernelspec": {
   "display_name": "ace-env",
   "language": "python",
   "name": "python3"
  },
  "language_info": {
   "codemirror_mode": {
    "name": "ipython",
    "version": 3
   },
   "file_extension": ".py",
   "mimetype": "text/x-python",
   "name": "python",
   "nbconvert_exporter": "python",
   "pygments_lexer": "ipython3",
   "version": "3.9.16"
  },
  "orig_nbformat": 4
 },
 "nbformat": 4,
 "nbformat_minor": 2
}
